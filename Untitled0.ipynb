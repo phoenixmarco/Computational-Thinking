{
  "nbformat": 4,
  "nbformat_minor": 0,
  "metadata": {
    "colab": {
      "name": "Untitled0.ipynb",
      "provenance": [],
      "authorship_tag": "ABX9TyNgM3DVTY29Jw/WtBcD9gZ3",
      "include_colab_link": true
    },
    "kernelspec": {
      "name": "python3",
      "display_name": "Python 3"
    }
  },
  "cells": [
    {
      "cell_type": "markdown",
      "metadata": {
        "id": "view-in-github",
        "colab_type": "text"
      },
      "source": [
        "<a href=\"https://colab.research.google.com/github/phoenixmarco/Computational-Thinking/blob/master/Untitled0.ipynb\" target=\"_parent\"><img src=\"https://colab.research.google.com/assets/colab-badge.svg\" alt=\"Open In Colab\"/></a>"
      ]
    },
    {
      "cell_type": "code",
      "metadata": {
        "id": "FLDsK8Klno-H"
      },
      "source": [
        "for i in range(1,10):\r\n",
        "  for j in range(1,10)\r\n",
        "     print(i,'*', j, '=', i*j '/t', sep='',end='')\r\n",
        "  priny()"
      ],
      "execution_count": null,
      "outputs": []
    }
  ]
}