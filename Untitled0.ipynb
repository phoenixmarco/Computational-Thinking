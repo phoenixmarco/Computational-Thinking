{
  "nbformat": 4,
  "nbformat_minor": 0,
  "metadata": {
    "colab": {
      "name": "Untitled0.ipynb",
      "provenance": [],
      "authorship_tag": "ABX9TyN+Y9+EPMFWiCxLFJZ5/JNi",
      "include_colab_link": true
    },
    "kernelspec": {
      "name": "python3",
      "display_name": "Python 3"
    }
  },
  "cells": [
    {
      "cell_type": "markdown",
      "metadata": {
        "id": "view-in-github",
        "colab_type": "text"
      },
      "source": [
        "<a href=\"https://colab.research.google.com/github/phoenixmarco/Computational-Thinking/blob/master/Untitled0.ipynb\" target=\"_parent\"><img src=\"https://colab.research.google.com/assets/colab-badge.svg\" alt=\"Open In Colab\"/></a>"
      ]
    },
    {
      "cell_type": "code",
      "metadata": {
        "id": "FLDsK8Klno-H"
      },
      "source": [
        "hello1 = \"Hello world!\"\r\n",
        "hello2 = \"Hello Python\"\r\n",
        "hello3 = \"Shaquile O'Neil\"\r\n",
        "\r\n",
        "s1 = \"123\"\r\n",
        "s2 = \"456\"\r\n",
        "s3 = s1+s2\r\n",
        "print(s3)\r\n",
        "s4 = s1*2\r\n",
        "print(s4)\r\n",
        "\r\n",
        "s1='An apple a day.'\r\n",
        "s1.capitalize()\r\n",
        "s1.title()\r\n",
        "s1.swapcase()\r\n",
        "s1.upper()\r\n",
        "s1.lower()\r\n",
        "\r\n",
        "numberlist = [1,2,3,4,5]\r\n",
        "print(numberlist)\r\n",
        "charlist = [\"1\",\"2\",\"3\",\"4\",\"5\"]\r\n",
        "print(charlist)\r\n",
        "mixlist = {1,\"2\",3,\"4\",5}\r\n",
        "print(mixlist)\r\n",
        "\r\n",
        "word = \"Python\"\r\n",
        "list1 = list(word)\r\n",
        "print(list)\r\n",
        "\r\n",
        "favorite_list = [6,\"milk\",\"Xuam\",\"appoinment\",\"green\"]\r\n",
        "print(favorite_list)\r\n",
        "\r\n",
        "numberlist = [\"1\",\"2\",\"3\",\"4\",\"5\"]\r\n",
        "numberlist[1]\r\n",
        "print(numberlist[1:4])\r\n"
      ],
      "execution_count": null,
      "outputs": []
    }
  ]
}